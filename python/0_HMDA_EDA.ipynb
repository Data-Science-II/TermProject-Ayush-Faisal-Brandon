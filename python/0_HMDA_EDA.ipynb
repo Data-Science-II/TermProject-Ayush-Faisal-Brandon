{
 "cells": [
  {
   "cell_type": "code",
   "execution_count": 1,
   "id": "varying-impact",
   "metadata": {},
   "outputs": [],
   "source": [
    "import pandas as pd \n",
    "import matplotlib.pyplot as plt \n",
    "import numpy as np \n",
    "import sqlite3\n",
    "\n",
    "%matplotlib inline"
   ]
  },
  {
   "cell_type": "code",
   "execution_count": 5,
   "id": "ignored-stocks",
   "metadata": {},
   "outputs": [],
   "source": [
    "db = sqlite3.connect(\"../data/HMDA.db\")\n",
    "for chunk in pd.read_csv(\"../data/hmda_2014_nationwide_all-records_labels.csv\", \n",
    "                         chunksize = 10000, \n",
    "                         low_memory = False):\n",
    "    chunk.to_sql(\"hmda_2014\", db, if_exists=\"append\")\n"
   ]
  },
  {
   "cell_type": "code",
   "execution_count": 6,
   "id": "blind-earth",
   "metadata": {},
   "outputs": [],
   "source": [
    "db.close()"
   ]
  },
  {
   "cell_type": "code",
   "execution_count": 28,
   "id": "instructional-genetics",
   "metadata": {},
   "outputs": [],
   "source": [
    "def sample(table, n = 20000): \n",
    "    \"\"\"\n",
    "    Randomly samples a particular table in the sqlite3 database for \n",
    "    n observations for various purposes. Runtime is not the best, so only \n",
    "    useful for calls for EDA purposes. Using apache spark is best if model \n",
    "    building is needed. \n",
    "    \n",
    "    Keyword Arguments: \n",
    "    table - the table to pull from typically 'hmda_201X' \n",
    "    n - the the number of observations to pull from the dataset \n",
    "    \"\"\"\n",
    "    con = sqlite3.connect(\"../data/HMDA.db\")\n",
    "    query = f\"\"\"SELECT * FROM {table} ORDER BY RANDOM() LIMIT {n}\"\"\"\n",
    "    df = pd.read_sql(sql = query, con = con)\n",
    "    con.close()\n",
    "    \n",
    "    return df"
   ]
  },
  {
   "cell_type": "code",
   "execution_count": 30,
   "id": "unlike-mobility",
   "metadata": {},
   "outputs": [],
   "source": [
    "data_2014 = sample(\"hmda_2014\")\n"
   ]
  },
  {
   "cell_type": "code",
   "execution_count": 43,
   "id": "convertible-diving",
   "metadata": {},
   "outputs": [
    {
     "name": "stdout",
     "output_type": "stream",
     "text": [
      "index                               0\n",
      "as_of_year                          0\n",
      "respondent_id                       0\n",
      "agency_name                         0\n",
      "agency_abbr                         0\n",
      "                                 ... \n",
      "hud_median_family_income          588\n",
      "tract_to_msamd_income             590\n",
      "number_of_owner_occupied_units    590\n",
      "number_of_1_to_4_family_units     590\n",
      "application_date_indicator          0\n",
      "Length: 79, dtype: int64\n"
     ]
    }
   ],
   "source": [
    "print(data_2014.isna().sum())"
   ]
  }
 ],
 "metadata": {
  "kernelspec": {
   "display_name": "Python 3",
   "language": "python",
   "name": "python3"
  },
  "language_info": {
   "codemirror_mode": {
    "name": "ipython",
    "version": 3
   },
   "file_extension": ".py",
   "mimetype": "text/x-python",
   "name": "python",
   "nbconvert_exporter": "python",
   "pygments_lexer": "ipython3",
   "version": "3.7.10"
  }
 },
 "nbformat": 4,
 "nbformat_minor": 5
}
